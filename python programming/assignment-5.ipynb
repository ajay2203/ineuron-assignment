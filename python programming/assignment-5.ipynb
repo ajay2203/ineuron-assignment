{
 "cells": [
  {
   "attachments": {},
   "cell_type": "markdown",
   "metadata": {},
   "source": [
    "Assignment 5 Solutions"
   ]
  },
  {
   "attachments": {},
   "cell_type": "markdown",
   "metadata": {},
   "source": [
    "1. Write a Python Program to find LCM ?"
   ]
  },
  {
   "cell_type": "code",
   "execution_count": 1,
   "metadata": {},
   "outputs": [
    {
     "name": "stdout",
     "output_type": "stream",
     "text": [
      "The LCM of 3,6 is 6\n",
      "The LCM of 5,2 is 10\n",
      "The LCM of 5,100 is 100\n"
     ]
    }
   ],
   "source": [
    "def findTheLcm(x_term,y_term):\n",
    "    if x_term > y_term:\n",
    "        greater = x_term\n",
    "    else:\n",
    "        greater = x_term\n",
    "    while True:\n",
    "        if((greater%x_term == 0) and (greater%y_term == 0)):\n",
    "            lcm = greater\n",
    "            break\n",
    "        else:\n",
    "            greater +=1\n",
    "    print(f'The LCM of {x_term},{y_term} is {lcm}')\n",
    "\n",
    "findTheLcm(3,6)\n",
    "findTheLcm(5,2)\n",
    "findTheLcm(5,100)"
   ]
  },
  {
   "attachments": {},
   "cell_type": "markdown",
   "metadata": {},
   "source": [
    "2. Write a Python Program to find HCF ?"
   ]
  },
  {
   "cell_type": "code",
   "execution_count": 2,
   "metadata": {},
   "outputs": [
    {
     "name": "stdout",
     "output_type": "stream",
     "text": [
      "The HCF of 6,12 is 6\n",
      "The HCF of 2,3 is 1\n"
     ]
    }
   ],
   "source": [
    "def findTheHcf(x_term,y_term):\n",
    "    if x_term>y_term:\n",
    "        smaller = y_term\n",
    "    else:\n",
    "        smaller = x_term\n",
    "    for ele in range(1,smaller+1):\n",
    "        if((x_term%ele == 0) and (y_term%ele == 0)):\n",
    "            hcf = ele\n",
    "    print(f'The HCF of {x_term},{y_term} is {hcf}')\n",
    "\n",
    "findTheHcf(6,12)\n",
    "findTheHcf(2,3)"
   ]
  },
  {
   "attachments": {},
   "cell_type": "markdown",
   "metadata": {},
   "source": [
    "3. Write a Python Program to Convert Decimal to Binary, Octal and Hexadecimal ?"
   ]
  },
  {
   "cell_type": "code",
   "execution_count": 3,
   "metadata": {},
   "outputs": [
    {
     "name": "stdout",
     "output_type": "stream",
     "text": [
      "Binary Number -> 0b101\n",
      "Octal Number -> 0o5\n",
      "Hexadecimal Number -> 0x5\n"
     ]
    }
   ],
   "source": [
    "def DecimalToOther():\n",
    "    num = int(input('Enter a Number: '))\n",
    "    print(f'Binary Number -> {bin(num)}')\n",
    "    print(f'Octal Number -> {oct(num)}')    \n",
    "    print(f'Hexadecimal Number -> {hex(num)}')    \n",
    "\n",
    "DecimalToOther()"
   ]
  },
  {
   "attachments": {},
   "cell_type": "markdown",
   "metadata": {},
   "source": [
    "4. Write a Python Program to Find the ASCII value of a Character ?"
   ]
  },
  {
   "cell_type": "code",
   "execution_count": 4,
   "metadata": {},
   "outputs": [
    {
     "name": "stdout",
     "output_type": "stream",
     "text": [
      "Ascii Character of 8 is 56\n"
     ]
    }
   ],
   "source": [
    "def charToAscii():\n",
    "    char = input('Enter a Character: ')\n",
    "    if len(char) > 1:\n",
    "        print('Please Enter a Single Character')\n",
    "    else:\n",
    "        print(f'Ascii Character of {char} is {ord(char)}')\n",
    "\n",
    "charToAscii()"
   ]
  },
  {
   "attachments": {},
   "cell_type": "markdown",
   "metadata": {},
   "source": [
    "5. Write a Python Program to Make a Simple Calculator with 4 Basic Mathematical operations ?"
   ]
  },
  {
   "cell_type": "code",
   "execution_count": 5,
   "metadata": {},
   "outputs": [
    {
     "name": "stdout",
     "output_type": "stream",
     "text": [
      "Select a Arithmetic Operation:         \n",
      "1.Addition(+)        \n",
      "2.Division(-)        \n",
      "2.Multiplication(*)        \n",
      "4.Division(/)        \n",
      "3.Stop(0)\n",
      "\n",
      "5+4=9\n",
      "\n",
      "5/2=2.5\n",
      "\n",
      "8*7=56\n",
      "\n",
      "Program Stopped successfully\n"
     ]
    }
   ],
   "source": [
    "import operator\n",
    "\n",
    "ops = { \"+\": operator.add, \"-\": operator.sub, \"*\":operator.mul, \"/\":operator.truediv } \n",
    "\n",
    "print('Select a Arithmetic Operation: \\\n",
    "        \\n1.Addition(+)\\\n",
    "        \\n2.Division(-)\\\n",
    "        \\n2.Multiplication(*)\\\n",
    "        \\n4.Division(/)\\\n",
    "        \\n3.Stop(0)\\n')\n",
    "   \n",
    "\n",
    "while True:\n",
    "    operator = input('Enter a arithmetic operation -> ')\n",
    "    if operator == '0':\n",
    "        print(\"Program Stopped successfully\")\n",
    "        break\n",
    "    elif operator not in ['+','-','*','/']:\n",
    "        print(\"Please enter a valid operator\")\n",
    "    else:\n",
    "        num_1 = int(input('\\nEnter 1st Number: '))\n",
    "        num_2 = int(input('Enter 2nd Number: '))\n",
    "        print(f'{num_1}{operator}{num_2}={ops[operator](num_1,num_2)}\\n')"
   ]
  }
 ],
 "metadata": {
  "kernelspec": {
   "display_name": "pythonproject",
   "language": "python",
   "name": "python3"
  },
  "language_info": {
   "codemirror_mode": {
    "name": "ipython",
    "version": 3
   },
   "file_extension": ".py",
   "mimetype": "text/x-python",
   "name": "python",
   "nbconvert_exporter": "python",
   "pygments_lexer": "ipython3",
   "version": "3.9.15"
  },
  "orig_nbformat": 4,
  "vscode": {
   "interpreter": {
    "hash": "1e7f40ccfd6e6da12f4cf839cf20db50613680a2a30be4cd98c6b076659fa0af"
   }
  }
 },
 "nbformat": 4,
 "nbformat_minor": 2
}
